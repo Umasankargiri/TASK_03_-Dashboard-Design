{
 "cells": [
  {
   "cell_type": "code",
   "execution_count": 2,
   "id": "6d958800-a982-4206-91ae-9a4c9d0184ae",
   "metadata": {},
   "outputs": [],
   "source": [
    "import pandas as pd\n",
    "import numpy as np\n",
    "\n",
    "# Load the CSV\n",
    "df = pd.read_csv(\"C:\\\\Users\\\\giriu\\\\OneDrive\\\\Documents\\\\Whatsaap\\\\Product-Sales-Region.csv\")\n",
    "\n",
    "# Clean all text columns: strip spaces, title case, fill missing\n",
    "for col in df.select_dtypes(include='object').columns:\n",
    "    df[col] = df[col].astype(str).str.strip().str.title().fillna('Unknown')\n",
    "\n",
    "# Convert date columns and extract features\n",
    "df['OrderDate'] = pd.to_datetime(df['OrderDate'], errors='coerce')\n",
    "df['DeliveryDate'] = pd.to_datetime(df['DeliveryDate'], errors='coerce')\n",
    "df['OrderMonth'] = df['OrderDate'].dt.month_name()\n",
    "df['OrderYear'] = df['OrderDate'].dt.year\n",
    "\n",
    "# Convert numeric columns safely\n",
    "numeric_cols = ['Quantity', 'UnitPrice', 'TotalPrice', 'Discount', 'ShippingCost', 'Returned']\n",
    "for col in numeric_cols:\n",
    "    df[col] = pd.to_numeric(df[col], errors='coerce').fillna(0)\n",
    "\n",
    "# Fill missing Promotion values\n",
    "df['Promotion'] = df['Promotion'].fillna('None')\n",
    "\n",
    "# Create calculated columns\n",
    "df['ProfitMargin (%)'] = ((df['TotalPrice'] - (df['Quantity'] * df['UnitPrice'])) / df['TotalPrice']) * 100\n",
    "df['DeliveryTime (Days)'] = (df['DeliveryDate'] - df['OrderDate']).dt.days\n",
    "df['HighValueOrder'] = df['TotalPrice'] > 1000\n",
    "\n",
    "# Optional: remove invalid rows\n",
    "df = df[(df['Quantity'] > 0) & (df['TotalPrice'] > 0)]\n",
    "\n",
    "# Export cleaned file\n",
    "df.to_csv('Cleaned_Sales_Data.csv', index=False)\n"
   ]
  },
  {
   "cell_type": "code",
   "execution_count": null,
   "id": "81e15204-dae0-4a33-8cc5-155ae9020ab6",
   "metadata": {},
   "outputs": [],
   "source": []
  }
 ],
 "metadata": {
  "kernelspec": {
   "display_name": "Python 3 (ipykernel)",
   "language": "python",
   "name": "python3"
  },
  "language_info": {
   "codemirror_mode": {
    "name": "ipython",
    "version": 3
   },
   "file_extension": ".py",
   "mimetype": "text/x-python",
   "name": "python",
   "nbconvert_exporter": "python",
   "pygments_lexer": "ipython3",
   "version": "3.13.5"
  }
 },
 "nbformat": 4,
 "nbformat_minor": 5
}
